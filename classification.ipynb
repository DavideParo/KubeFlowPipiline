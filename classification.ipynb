{
 "cells": [
  {
   "cell_type": "code",
   "execution_count": 1,
   "metadata": {
    "tags": []
   },
   "outputs": [
    {
     "name": "stdout",
     "output_type": "stream",
     "text": [
      "Collecting sklearn\n",
      "  Downloading sklearn-0.0.post1.tar.gz (3.6 kB)\n",
      "  Preparing metadata (setup.py) ... \u001b[?25ldone\n",
      "\u001b[?25hBuilding wheels for collected packages: sklearn\n",
      "  Building wheel for sklearn (setup.py) ... \u001b[?25ldone\n",
      "\u001b[?25h  Created wheel for sklearn: filename=sklearn-0.0.post1-py3-none-any.whl size=4913 sha256=a0d72152b0121a3e989fcf81d908612eca36b97f8714a09c8aae8d4c3a6999ce\n",
      "  Stored in directory: /home/jovyan/.cache/pip/wheels/14/25/f7/1cc0956978ae479e75140219088deb7a36f60459df242b1a72\n",
      "Successfully built sklearn\n",
      "Installing collected packages: sklearn\n",
      "Successfully installed sklearn-0.0.post1\n",
      "\u001b[33mWARNING: You are using pip version 22.0.4; however, version 22.3.1 is available.\n",
      "You should consider upgrading via the '/usr/bin/python3 -m pip install --upgrade pip' command.\u001b[0m\u001b[33m\n",
      "\u001b[0m"
     ]
    }
   ],
   "source": [
    "!pip install --user -r requirements.txt"
   ]
  },
  {
   "cell_type": "code",
   "execution_count": 2,
   "metadata": {
    "tags": [
     "block:dowload_data"
    ]
   },
   "outputs": [],
   "source": [
    "import json\n",
    "from sklearn.datasets import load_breast_cancer\n",
    "from sklearn.model_selection import train_test_split\n",
    "\n",
    "def download_data(out_file):\n",
    "\n",
    "    # Gets and split dataset\n",
    "    x, y = load_breast_cancer(return_X_y=True)\n",
    "    x_train, x_test, y_train, y_test = train_test_split(x, y, test_size=0.2)\n",
    "\n",
    "    # Creates `data` structure to save and \n",
    "    # share train and test datasets.\n",
    "    data = {'x_train' : x_train.tolist(),\n",
    "            'y_train' : y_train.tolist(),\n",
    "            'x_test' : x_test.tolist(),\n",
    "            'y_test' : y_test.tolist()}\n",
    "\n",
    "    # Creates a json object based on `data`\n",
    "    data_json = json.dumps(data)\n",
    "\n",
    "\n",
    "    # Saves the json object into a file\n",
    "    with open(out_file, 'w') as f:\n",
    "        json.dump(data_json, f)"
   ]
  },
  {
   "cell_type": "code",
   "execution_count": 3,
   "metadata": {
    "tags": [
     "block:decision_tree",
     "prev:dowload_data"
    ]
   },
   "outputs": [],
   "source": [
    "from sklearn.metrics import accuracy_score\n",
    "from sklearn.tree import DecisionTreeClassifier\n",
    "from joblib import dump\n",
    "\n",
    "def decision_tree(data_file):\n",
    "\n",
    "    # Open and reads file \"data\"\n",
    "    with open(data_file) as f:\n",
    "        data = json.load(f)\n",
    "    \n",
    "    # The excted data type is 'dict', however since the file\n",
    "    # was loaded as a json object, it is first loaded as a string\n",
    "    # thus we need to load again from such string in order to get \n",
    "    # the dict-type object.\n",
    "    data = json.loads(data)\n",
    "\n",
    "    x_train = data['x_train']\n",
    "    y_train = data['y_train']\n",
    "    x_test = data['x_test']\n",
    "    y_test = data['y_test']\n",
    "    \n",
    "    # Initialize and train the model\n",
    "    model = DecisionTreeClassifier(max_depth=3)\n",
    "    model.fit(x_train, y_train)\n",
    "    \n",
    "    # Save the model\n",
    "    dump(model, 'models/decision_tree_model.joblib')\n",
    "\n",
    "    # Get predictions\n",
    "    y_pred = model.predict(x_test)\n",
    "    \n",
    "    # Get accuracy\n",
    "    accuracy = accuracy_score(y_test, y_pred)\n",
    "\n",
    "    return accuracy"
   ]
  },
  {
   "cell_type": "code",
   "execution_count": 4,
   "metadata": {
    "tags": [
     "block:random_forest",
     "prev:dowload_data"
    ]
   },
   "outputs": [],
   "source": [
    "from sklearn.metrics import accuracy_score\n",
    "from sklearn.ensemble import RandomForestClassifier\n",
    "from joblib import dump\n",
    "\n",
    "def random_forest(data_file):\n",
    "\n",
    "    # Open and reads file \"data\"\n",
    "    with open(data_file) as f:\n",
    "        data = json.load(f)\n",
    "    \n",
    "    # The excted data type is 'dict', however since the file\n",
    "    # was loaded as a json object, it is first loaded as a string\n",
    "    # thus we need to load again from such string in order to get \n",
    "    # the dict-type object.\n",
    "    data = json.loads(data)\n",
    "\n",
    "    x_train = data['x_train']\n",
    "    y_train = data['y_train']\n",
    "    x_test = data['x_test']\n",
    "    y_test = data['y_test']\n",
    "    \n",
    "    # Initialize and train the model\n",
    "    model = RandomForestClassifier(n_estimators=100, bootstrap = True, max_features = 'sqrt')\n",
    "    model.fit(x_train, y_train)\n",
    "    \n",
    "    # Save the model\n",
    "    dump(model, 'models/random_forest_model.joblib')\n",
    "\n",
    "    # Get predictions\n",
    "    y_pred = model.predict(x_test)\n",
    "    \n",
    "    # Get accuracy\n",
    "    accuracy = accuracy_score(y_test, y_pred)\n",
    "\n",
    "    return accuracy"
   ]
  },
  {
   "cell_type": "code",
   "execution_count": 5,
   "metadata": {
    "tags": [
     "block:show_results",
     "prev:decision_tree",
     "prev:random_forest"
    ]
   },
   "outputs": [],
   "source": [
    "def show_results(accuracy_file, accuracy_dt, accuracy_rf):\n",
    "    # Given the outputs from decision_tree and logistic regression components\n",
    "    # the results are shown.\n",
    "    # Save output into file\n",
    "    with open(accuracy_file, 'w') as f:\n",
    "        f.write('Decision tree (accuracy): ' + str(accuracy_dt))\n",
    "        f.write('Random forest (accuracy): ' + str(accuracy_rf))\n",
    "\n",
    "    print(f\"Decision tree (accuracy): {accuracy_dt}\")\n",
    "    print(f\"Random forest (accuracy): {accuracy_rf}\")\n",
    "    f.close()"
   ]
  },
  {
   "cell_type": "code",
   "execution_count": 6,
   "metadata": {
    "tags": [
     "block:classify",
     "prev:dowload_data",
     "prev:decision_tree",
     "prev:show_results"
    ]
   },
   "outputs": [],
   "source": [
    "def classify():\n",
    "    data_file = 'data/dataset.csv'\n",
    "    accuracy_file = 'results/accuracy.txt'\n",
    "    # Run download_data task\n",
    "    download_data(data_file)\n",
    "\n",
    "    # Run tasks \"decison_tree\" and \"logistic_regression\" given\n",
    "    # the output generated by \"download\".\n",
    "    accuracy_dt = decision_tree(data_file)\n",
    "    accuracy_rf = random_forest(data_file)\n",
    "\n",
    "    # Given the outputs from \"decision_tree\" and \"logistic_regression\"\n",
    "    # the component \"show_results\" is called to print the results.\n",
    "    show_results(accuracy_file, accuracy_dt, accuracy_rf)"
   ]
  },
  {
   "cell_type": "code",
   "execution_count": 7,
   "metadata": {
    "tags": []
   },
   "outputs": [
    {
     "name": "stdout",
     "output_type": "stream",
     "text": [
      "Decision tree (accuracy): 0.9122807017543859\n",
      "Random forest (accuracy): 0.9473684210526315\n"
     ]
    }
   ],
   "source": [
    "classify()"
   ]
  },
  {
   "cell_type": "code",
   "execution_count": null,
   "metadata": {
    "tags": []
   },
   "outputs": [],
   "source": []
  }
 ],
 "metadata": {
  "kernelspec": {
   "display_name": "Python 3 (ipykernel)",
   "language": "python",
   "name": "python3"
  },
  "kubeflow_notebook": {
   "autosnapshot": true,
   "deploy_config": {},
   "docker_image": "gcr.io/arrikto/jupyter-kale-py38@sha256:2e1ce3427b780c0c78e7cfec527ee10c391092fdc4a8344cd76f8b83c61c5234",
   "experiment_name": "classification",
   "katib_metadata": {
    "algorithm": {
     "algorithmName": "grid"
    },
    "maxFailedTrialCount": 3,
    "maxTrialCount": 12,
    "objective": {
     "objectiveMetricName": "",
     "type": "minimize"
    },
    "parallelTrialCount": 3,
    "parameters": []
   },
   "katib_run": false,
   "pipeline_description": "",
   "pipeline_name": "pipelineprof",
   "snapshot_volumes": true,
   "volume_access_mode": "rwm",
   "volumes": [
    {
     "annotations": [],
     "mount_point": "/home/jovyan",
     "name": "firstpipeline-workspace-pqp6p",
     "size": 5,
     "size_type": "Gi",
     "snapshot": false,
     "type": "clone"
    }
   ]
  },
  "language_info": {
   "codemirror_mode": {
    "name": "ipython",
    "version": 3
   },
   "file_extension": ".py",
   "mimetype": "text/x-python",
   "name": "python",
   "nbconvert_exporter": "python",
   "pygments_lexer": "ipython3",
   "version": "3.8.0"
  }
 },
 "nbformat": 4,
 "nbformat_minor": 4
}
